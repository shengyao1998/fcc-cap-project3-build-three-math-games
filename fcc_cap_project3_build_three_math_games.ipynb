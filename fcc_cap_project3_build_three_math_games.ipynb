{
  "nbformat": 4,
  "nbformat_minor": 0,
  "metadata": {
    "colab": {
      "provenance": [],
      "authorship_tag": "ABX9TyPZhWockaL6KA5QXK7GX1IH",
      "include_colab_link": true
    },
    "kernelspec": {
      "name": "python3",
      "display_name": "Python 3"
    },
    "language_info": {
      "name": "python"
    },
    "widgets": {
      "application/vnd.jupyter.widget-state+json": {
        "a113246f2db048bfa80827a20824b6aa": {
          "model_module": "@jupyter-widgets/controls",
          "model_name": "VBoxModel",
          "model_module_version": "1.5.0",
          "state": {
            "_dom_classes": [
              "widget-interact"
            ],
            "_model_module": "@jupyter-widgets/controls",
            "_model_module_version": "1.5.0",
            "_model_name": "VBoxModel",
            "_view_count": null,
            "_view_module": "@jupyter-widgets/controls",
            "_view_module_version": "1.5.0",
            "_view_name": "VBoxView",
            "box_style": "",
            "children": [
              "IPY_MODEL_3993066a82844a38851979c708735808",
              "IPY_MODEL_3db417fdd7834af3bafe90bb6e1ef018",
              "IPY_MODEL_3921b9ed217940019b0e04e3cd7d9514",
              "IPY_MODEL_83849e53520b43219dee0ec59ca6abf9"
            ],
            "layout": "IPY_MODEL_9ae8d4480d7b4f698805beadae1e0b48"
          }
        },
        "3993066a82844a38851979c708735808": {
          "model_module": "@jupyter-widgets/controls",
          "model_name": "IntSliderModel",
          "model_module_version": "1.5.0",
          "state": {
            "_dom_classes": [],
            "_model_module": "@jupyter-widgets/controls",
            "_model_module_version": "1.5.0",
            "_model_name": "IntSliderModel",
            "_view_count": null,
            "_view_module": "@jupyter-widgets/controls",
            "_view_module_version": "1.5.0",
            "_view_name": "IntSliderView",
            "continuous_update": true,
            "description": "a",
            "description_tooltip": null,
            "disabled": false,
            "layout": "IPY_MODEL_1cc1c8cc0f9c427bbd11468b1fc933d7",
            "max": 9,
            "min": -9,
            "orientation": "horizontal",
            "readout": true,
            "readout_format": "d",
            "step": 1,
            "style": "IPY_MODEL_9afde5525536449a930d170020cc2cc0",
            "value": -1
          }
        },
        "3db417fdd7834af3bafe90bb6e1ef018": {
          "model_module": "@jupyter-widgets/controls",
          "model_name": "IntSliderModel",
          "model_module_version": "1.5.0",
          "state": {
            "_dom_classes": [],
            "_model_module": "@jupyter-widgets/controls",
            "_model_module_version": "1.5.0",
            "_model_name": "IntSliderModel",
            "_view_count": null,
            "_view_module": "@jupyter-widgets/controls",
            "_view_module_version": "1.5.0",
            "_view_name": "IntSliderView",
            "continuous_update": true,
            "description": "b",
            "description_tooltip": null,
            "disabled": false,
            "layout": "IPY_MODEL_178f79102a6b4a3a8db7f33fe8072366",
            "max": 9,
            "min": -9,
            "orientation": "horizontal",
            "readout": true,
            "readout_format": "d",
            "step": 1,
            "style": "IPY_MODEL_f1b5f37d278b4e369933d755cf30edb4",
            "value": 8
          }
        },
        "3921b9ed217940019b0e04e3cd7d9514": {
          "model_module": "@jupyter-widgets/controls",
          "model_name": "IntSliderModel",
          "model_module_version": "1.5.0",
          "state": {
            "_dom_classes": [],
            "_model_module": "@jupyter-widgets/controls",
            "_model_module_version": "1.5.0",
            "_model_name": "IntSliderModel",
            "_view_count": null,
            "_view_module": "@jupyter-widgets/controls",
            "_view_module_version": "1.5.0",
            "_view_name": "IntSliderView",
            "continuous_update": true,
            "description": "c",
            "description_tooltip": null,
            "disabled": false,
            "layout": "IPY_MODEL_d911b87944ee4f468a9384a1365e7d54",
            "max": 9,
            "min": -9,
            "orientation": "horizontal",
            "readout": true,
            "readout_format": "d",
            "step": 1,
            "style": "IPY_MODEL_e8f22a8bc0504076b524d3dc57b64aea",
            "value": 7
          }
        },
        "83849e53520b43219dee0ec59ca6abf9": {
          "model_module": "@jupyter-widgets/output",
          "model_name": "OutputModel",
          "model_module_version": "1.0.0",
          "state": {
            "_dom_classes": [],
            "_model_module": "@jupyter-widgets/output",
            "_model_module_version": "1.0.0",
            "_model_name": "OutputModel",
            "_view_count": null,
            "_view_module": "@jupyter-widgets/output",
            "_view_module_version": "1.0.0",
            "_view_name": "OutputView",
            "layout": "IPY_MODEL_db2844e1dfa64843b596bf6aab6a8cbd",
            "msg_id": "",
            "outputs": [
              {
                "output_type": "display_data",
                "data": {
                  "text/plain": "<Figure size 640x480 with 1 Axes>",
                  "image/png": "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\n"
                },
                "metadata": {}
              }
            ]
          }
        },
        "9ae8d4480d7b4f698805beadae1e0b48": {
          "model_module": "@jupyter-widgets/base",
          "model_name": "LayoutModel",
          "model_module_version": "1.2.0",
          "state": {
            "_model_module": "@jupyter-widgets/base",
            "_model_module_version": "1.2.0",
            "_model_name": "LayoutModel",
            "_view_count": null,
            "_view_module": "@jupyter-widgets/base",
            "_view_module_version": "1.2.0",
            "_view_name": "LayoutView",
            "align_content": null,
            "align_items": null,
            "align_self": null,
            "border": null,
            "bottom": null,
            "display": null,
            "flex": null,
            "flex_flow": null,
            "grid_area": null,
            "grid_auto_columns": null,
            "grid_auto_flow": null,
            "grid_auto_rows": null,
            "grid_column": null,
            "grid_gap": null,
            "grid_row": null,
            "grid_template_areas": null,
            "grid_template_columns": null,
            "grid_template_rows": null,
            "height": null,
            "justify_content": null,
            "justify_items": null,
            "left": null,
            "margin": null,
            "max_height": null,
            "max_width": null,
            "min_height": null,
            "min_width": null,
            "object_fit": null,
            "object_position": null,
            "order": null,
            "overflow": null,
            "overflow_x": null,
            "overflow_y": null,
            "padding": null,
            "right": null,
            "top": null,
            "visibility": null,
            "width": null
          }
        },
        "1cc1c8cc0f9c427bbd11468b1fc933d7": {
          "model_module": "@jupyter-widgets/base",
          "model_name": "LayoutModel",
          "model_module_version": "1.2.0",
          "state": {
            "_model_module": "@jupyter-widgets/base",
            "_model_module_version": "1.2.0",
            "_model_name": "LayoutModel",
            "_view_count": null,
            "_view_module": "@jupyter-widgets/base",
            "_view_module_version": "1.2.0",
            "_view_name": "LayoutView",
            "align_content": null,
            "align_items": null,
            "align_self": null,
            "border": null,
            "bottom": null,
            "display": null,
            "flex": null,
            "flex_flow": null,
            "grid_area": null,
            "grid_auto_columns": null,
            "grid_auto_flow": null,
            "grid_auto_rows": null,
            "grid_column": null,
            "grid_gap": null,
            "grid_row": null,
            "grid_template_areas": null,
            "grid_template_columns": null,
            "grid_template_rows": null,
            "height": null,
            "justify_content": null,
            "justify_items": null,
            "left": null,
            "margin": null,
            "max_height": null,
            "max_width": null,
            "min_height": null,
            "min_width": null,
            "object_fit": null,
            "object_position": null,
            "order": null,
            "overflow": null,
            "overflow_x": null,
            "overflow_y": null,
            "padding": null,
            "right": null,
            "top": null,
            "visibility": null,
            "width": null
          }
        },
        "9afde5525536449a930d170020cc2cc0": {
          "model_module": "@jupyter-widgets/controls",
          "model_name": "SliderStyleModel",
          "model_module_version": "1.5.0",
          "state": {
            "_model_module": "@jupyter-widgets/controls",
            "_model_module_version": "1.5.0",
            "_model_name": "SliderStyleModel",
            "_view_count": null,
            "_view_module": "@jupyter-widgets/base",
            "_view_module_version": "1.2.0",
            "_view_name": "StyleView",
            "description_width": "",
            "handle_color": null
          }
        },
        "178f79102a6b4a3a8db7f33fe8072366": {
          "model_module": "@jupyter-widgets/base",
          "model_name": "LayoutModel",
          "model_module_version": "1.2.0",
          "state": {
            "_model_module": "@jupyter-widgets/base",
            "_model_module_version": "1.2.0",
            "_model_name": "LayoutModel",
            "_view_count": null,
            "_view_module": "@jupyter-widgets/base",
            "_view_module_version": "1.2.0",
            "_view_name": "LayoutView",
            "align_content": null,
            "align_items": null,
            "align_self": null,
            "border": null,
            "bottom": null,
            "display": null,
            "flex": null,
            "flex_flow": null,
            "grid_area": null,
            "grid_auto_columns": null,
            "grid_auto_flow": null,
            "grid_auto_rows": null,
            "grid_column": null,
            "grid_gap": null,
            "grid_row": null,
            "grid_template_areas": null,
            "grid_template_columns": null,
            "grid_template_rows": null,
            "height": null,
            "justify_content": null,
            "justify_items": null,
            "left": null,
            "margin": null,
            "max_height": null,
            "max_width": null,
            "min_height": null,
            "min_width": null,
            "object_fit": null,
            "object_position": null,
            "order": null,
            "overflow": null,
            "overflow_x": null,
            "overflow_y": null,
            "padding": null,
            "right": null,
            "top": null,
            "visibility": null,
            "width": null
          }
        },
        "f1b5f37d278b4e369933d755cf30edb4": {
          "model_module": "@jupyter-widgets/controls",
          "model_name": "SliderStyleModel",
          "model_module_version": "1.5.0",
          "state": {
            "_model_module": "@jupyter-widgets/controls",
            "_model_module_version": "1.5.0",
            "_model_name": "SliderStyleModel",
            "_view_count": null,
            "_view_module": "@jupyter-widgets/base",
            "_view_module_version": "1.2.0",
            "_view_name": "StyleView",
            "description_width": "",
            "handle_color": null
          }
        },
        "d911b87944ee4f468a9384a1365e7d54": {
          "model_module": "@jupyter-widgets/base",
          "model_name": "LayoutModel",
          "model_module_version": "1.2.0",
          "state": {
            "_model_module": "@jupyter-widgets/base",
            "_model_module_version": "1.2.0",
            "_model_name": "LayoutModel",
            "_view_count": null,
            "_view_module": "@jupyter-widgets/base",
            "_view_module_version": "1.2.0",
            "_view_name": "LayoutView",
            "align_content": null,
            "align_items": null,
            "align_self": null,
            "border": null,
            "bottom": null,
            "display": null,
            "flex": null,
            "flex_flow": null,
            "grid_area": null,
            "grid_auto_columns": null,
            "grid_auto_flow": null,
            "grid_auto_rows": null,
            "grid_column": null,
            "grid_gap": null,
            "grid_row": null,
            "grid_template_areas": null,
            "grid_template_columns": null,
            "grid_template_rows": null,
            "height": null,
            "justify_content": null,
            "justify_items": null,
            "left": null,
            "margin": null,
            "max_height": null,
            "max_width": null,
            "min_height": null,
            "min_width": null,
            "object_fit": null,
            "object_position": null,
            "order": null,
            "overflow": null,
            "overflow_x": null,
            "overflow_y": null,
            "padding": null,
            "right": null,
            "top": null,
            "visibility": null,
            "width": null
          }
        },
        "e8f22a8bc0504076b524d3dc57b64aea": {
          "model_module": "@jupyter-widgets/controls",
          "model_name": "SliderStyleModel",
          "model_module_version": "1.5.0",
          "state": {
            "_model_module": "@jupyter-widgets/controls",
            "_model_module_version": "1.5.0",
            "_model_name": "SliderStyleModel",
            "_view_count": null,
            "_view_module": "@jupyter-widgets/base",
            "_view_module_version": "1.2.0",
            "_view_name": "StyleView",
            "description_width": "",
            "handle_color": null
          }
        },
        "db2844e1dfa64843b596bf6aab6a8cbd": {
          "model_module": "@jupyter-widgets/base",
          "model_name": "LayoutModel",
          "model_module_version": "1.2.0",
          "state": {
            "_model_module": "@jupyter-widgets/base",
            "_model_module_version": "1.2.0",
            "_model_name": "LayoutModel",
            "_view_count": null,
            "_view_module": "@jupyter-widgets/base",
            "_view_module_version": "1.2.0",
            "_view_name": "LayoutView",
            "align_content": null,
            "align_items": null,
            "align_self": null,
            "border": null,
            "bottom": null,
            "display": null,
            "flex": null,
            "flex_flow": null,
            "grid_area": null,
            "grid_auto_columns": null,
            "grid_auto_flow": null,
            "grid_auto_rows": null,
            "grid_column": null,
            "grid_gap": null,
            "grid_row": null,
            "grid_template_areas": null,
            "grid_template_columns": null,
            "grid_template_rows": null,
            "height": null,
            "justify_content": null,
            "justify_items": null,
            "left": null,
            "margin": null,
            "max_height": null,
            "max_width": null,
            "min_height": null,
            "min_width": null,
            "object_fit": null,
            "object_position": null,
            "order": null,
            "overflow": null,
            "overflow_x": null,
            "overflow_y": null,
            "padding": null,
            "right": null,
            "top": null,
            "visibility": null,
            "width": null
          }
        }
      }
    }
  },
  "cells": [
    {
      "cell_type": "markdown",
      "metadata": {
        "id": "view-in-github",
        "colab_type": "text"
      },
      "source": [
        "<a href=\"https://colab.research.google.com/github/shengyao1998/fcc-cap-project3-build-three-math-games/blob/main/fcc_cap_project3_build_three_math_games.ipynb\" target=\"_parent\"><img src=\"https://colab.research.google.com/assets/colab-badge.svg\" alt=\"Open In Colab\"/></a>"
      ]
    },
    {
      "cell_type": "markdown",
      "source": [
        "###Q1. Scatter plot game\n",
        "*   Randomly generate points on a graph and the player has to input the (x,y) coordinates.\n",
        "*   For added difficulty, make the graph larger\n",
        "\n"
      ],
      "metadata": {
        "id": "8e2GKyuNvFvj"
      }
    },
    {
      "cell_type": "code",
      "source": [
        "import matplotlib.pyplot as plt\n",
        "import random\n",
        "\n",
        "xmax = 10\n",
        "xmin = -10\n",
        "ymax = 10\n",
        "ymin = -10\n",
        "\n",
        "number = int(input(\"Enter the Amount of Gueses: \"))\n",
        "score = 0\n",
        "\n",
        "for i in range(number):\n",
        "  x_guess = int(input(\"Guess the X Coordinate: \"))\n",
        "  y_guess = int(input(\"Guess the Y Coordinate: \"))\n",
        "  x_actual = random.randint(xmin, xmax)\n",
        "  y_actual = random.randint(ymin, ymax)\n",
        "\n",
        "  ax = plt.subplot()\n",
        "  plt.axis([xmin,xmax,ymin,ymax])\n",
        "  ax.plot([0,0], [ymin,ymax], 'b')\n",
        "  ax.plot([xmin,xmax], [0,0], 'b')\n",
        "  ax.plot(x_actual, y_actual, 'ro')\n",
        "  plt.grid()\n",
        "  plt.show()\n",
        "\n",
        "  if x_guess == x_actual and y_guess == y_actual:\n",
        "    score = score + 1\n",
        "  input(\"Press Enter to continue...\")\n",
        "\n",
        "print(f\"Your score: {score}\")"
      ],
      "metadata": {
        "id": "6TC8xB0qvN4j",
        "colab": {
          "base_uri": "https://localhost:8080/",
          "height": 522
        },
        "outputId": "cb2ff202-1cf1-4625-9f6f-7fbdc1eda688"
      },
      "execution_count": null,
      "outputs": [
        {
          "name": "stdout",
          "output_type": "stream",
          "text": [
            "Enter the Amount of Gueses: 1\n",
            "Guess the X Coordinate: 3\n",
            "Guess the Y Coordinate: 3\n"
          ]
        },
        {
          "output_type": "display_data",
          "data": {
            "text/plain": [
              "<Figure size 640x480 with 1 Axes>"
            ],
            "image/png": "[encoded data removed]"
          },
          "metadata": {}
        },
        {
          "output_type": "stream",
          "name": "stdout",
          "text": [
            "Press Enter to continue...\n",
            "Your score: 0\n"
          ]
        }
      ]
    },
    {
      "cell_type": "markdown",
      "source": [
        "###Q2. Algebra practice game\n",
        "*   Generate one-step and two-step problems with random integer values and the player has to input the answer\n",
        "*   Use positive and negative values. For added difficulty, make the numbers larger:\n",
        "\n"
      ],
      "metadata": {
        "id": "sYFexTQqvLPG"
      }
    },
    {
      "cell_type": "code",
      "source": [
        "import matplotlib.pyplot as plt\n",
        "import random\n",
        "from sympy import *\n",
        "\n",
        "min = -100\n",
        "max = 100\n",
        "\n",
        "def generate_one_step_equation():\n",
        "    a = random.randint(min, max)  # coefficient\n",
        "    b = random.randint(min, max)  # constant\n",
        "    equation = f\"{a}*x + {b}\"\n",
        "    return equation\n",
        "\n",
        "def generate_two_step_equation():\n",
        "    a = random.randint(min, max)  # coefficient\n",
        "    b = random.randint(min, max)  # constant\n",
        "    c = random.randint(min, max)  # constant for the second step\n",
        "    equation = f\"{a}*x - {b} + {c}\"\n",
        "    return equation\n",
        "\n",
        "\n",
        "# One Step Equation:\n",
        "x,y = symbols('x y')\n",
        "eq1 = generate_one_step_equation()\n",
        "print(\"One step equation: \" + eq1)\n",
        "\n",
        "x_guess = (input(\"Please key in your answer, x = \"))\n",
        "x_actual = (solve(eq1, x))\n",
        "x_actual = x_actual[0]\n",
        "print(f\"The correct answer is {x_actual}\")\n",
        "\n",
        "\n",
        "print(\"--\" * 12)\n",
        "\n",
        "# Two Step Equation:\n",
        "x,y = symbols('x y')\n",
        "eq2 = generate_two_step_equation()\n",
        "print(\"Two step equation: \" + eq2)\n",
        "x_guess = (input(\"Please key in your answer, x = \"))\n",
        "x_actual = solve(eq2, (x))\n",
        "x_actual = x_actual[0]\n",
        "print(f\"The correct answer is x = {x_actual}\")"
      ],
      "metadata": {
        "id": "akqrb4tivw0x",
        "colab": {
          "base_uri": "https://localhost:8080/"
        },
        "outputId": "dda9e0fc-eb65-4d6b-b275-a4e7c1f520ee"
      },
      "execution_count": null,
      "outputs": [
        {
          "output_type": "stream",
          "name": "stdout",
          "text": [
            "One step equation: 11*x + 89\n",
            "Please key in your answer, x = 23\n",
            "The correct answer is -89/11\n",
            "------------------------\n",
            "Two step equation: -19*x - 56 + -36\n",
            "Please key in your answer, x = 32\n",
            "The correct answer is x = -92/19\n"
          ]
        }
      ]
    },
    {
      "cell_type": "markdown",
      "source": [
        "### Q3. Projectile game\n",
        "*   Display a \"wall\" with random height and location. Player has to move sliders to adjust a parabolic path to clear the wall.\n",
        "*   For added difficulty, make a second level where players enter a, b, and c without sliders.\n",
        "\n"
      ],
      "metadata": {
        "id": "dmiDJR6AvmMH"
      }
    },
    {
      "cell_type": "code",
      "source": [
        "%matplotlib inline\n",
        "import matplotlib.pyplot as plt\n",
        "import numpy as np\n",
        "import random\n",
        "from ipywidgets import interactive\n",
        "\n",
        "xmin = -10\n",
        "xmax = 10\n",
        "ymin = -10\n",
        "ymax = 10\n",
        "\n",
        "# Location\n",
        "x_wall = random.randint(xmin, xmax)\n",
        "y_wall = random.randint(0, ymax)\n",
        "\n",
        "# Change the next line to include c:\n",
        "def f(a,b,c):\n",
        "    plt.axis([xmin,xmax,ymin,ymax+5]) # window size\n",
        "    plt.plot([xmin,xmax],[0,0],'b') # blue x axis\n",
        "    # plt.plot([0,0],[0,ymax], 'b') # blue y axis\n",
        "\n",
        "    plt.plot([x_wall,x_wall],[0,y_wall],'r') # blue x axis\n",
        "\n",
        "    x = np.linspace(xmin, xmax, 10*(xmax-xmin))\n",
        "    # Change the next line to add c to the end of the function:\n",
        "    plt.plot(x, a*x**2 + b*x+c)\n",
        "    plt.show()\n",
        "\n",
        "\n",
        "interactive_plot = interactive(f, a=(-9, 9), b=(-9,9), c=(-9, 9))\n",
        "interactive_plot"
      ],
      "metadata": {
        "id": "X1AUWxy6vs3_",
        "colab": {
          "base_uri": "https://localhost:8080/",
          "height": 531,
          "referenced_widgets": [
            "a113246f2db048bfa80827a20824b6aa",
            "3993066a82844a38851979c708735808",
            "3db417fdd7834af3bafe90bb6e1ef018",
            "3921b9ed217940019b0e04e3cd7d9514",
            "83849e53520b43219dee0ec59ca6abf9",
            "9ae8d4480d7b4f698805beadae1e0b48",
            "1cc1c8cc0f9c427bbd11468b1fc933d7",
            "9afde5525536449a930d170020cc2cc0",
            "178f79102a6b4a3a8db7f33fe8072366",
            "f1b5f37d278b4e369933d755cf30edb4",
            "d911b87944ee4f468a9384a1365e7d54",
            "e8f22a8bc0504076b524d3dc57b64aea",
            "db2844e1dfa64843b596bf6aab6a8cbd"
          ]
        },
        "outputId": "b209d9a4-483f-4859-85fa-107f1cf772d3"
      },
      "execution_count": null,
      "outputs": [
        {
          "output_type": "display_data",
          "data": {
            "text/plain": [
              "interactive(children=(IntSlider(value=0, description='a', max=9, min=-9), IntSlider(value=0, description='b', …"
            ],
            "application/vnd.jupyter.widget-view+json": {
              "version_major": 2,
              "version_minor": 0,
              "model_id": "a113246f2db048bfa80827a20824b6aa"
            }
          },
          "metadata": {}
        }
      ]
    }
  ]
}